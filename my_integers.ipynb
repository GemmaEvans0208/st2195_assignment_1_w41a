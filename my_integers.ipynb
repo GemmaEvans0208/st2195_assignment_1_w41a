{
 "cells": [
  {
   "cell_type": "code",
   "execution_count": 1,
   "id": "ec8638ab-ec7f-407d-b822-49de24bc4673",
   "metadata": {},
   "outputs": [],
   "source": [
    "#Using for loop in r"
   ]
  },
  {
   "cell_type": "code",
   "execution_count": 2,
   "id": "70e08639-0033-4779-affb-52d09d4220ae",
   "metadata": {},
   "outputs": [
    {
     "ename": "SyntaxError",
     "evalue": "invalid syntax (2080090362.py, line 1)",
     "output_type": "error",
     "traceback": [
      "\u001b[0;36m  Cell \u001b[0;32mIn[2], line 1\u001b[0;36m\u001b[0m\n\u001b[0;31m    for (x in 1:10) {\u001b[0m\n\u001b[0m               ^\u001b[0m\n\u001b[0;31mSyntaxError\u001b[0m\u001b[0;31m:\u001b[0m invalid syntax\n"
     ]
    }
   ],
   "source": [
    "for (x in 1:10) {\n",
    "  print(x)\n",
    "}"
   ]
  },
  {
   "cell_type": "code",
   "execution_count": null,
   "id": "9e8c8466-f559-4711-a15a-8605113ed46c",
   "metadata": {},
   "outputs": [],
   "source": [
    "#Spyder: integers.py"
   ]
  },
  {
   "cell_type": "code",
   "execution_count": null,
   "id": "c574d865-1b97-4c59-b6e9-4002a931cce8",
   "metadata": {},
   "outputs": [],
   "source": [
    "for x in range(1,11):\n",
    "    print(x)"
   ]
  }
 ],
 "metadata": {
  "kernelspec": {
   "display_name": "Python 3 (ipykernel)",
   "language": "python",
   "name": "python3"
  },
  "language_info": {
   "codemirror_mode": {
    "name": "ipython",
    "version": 3
   },
   "file_extension": ".py",
   "mimetype": "text/x-python",
   "name": "python",
   "nbconvert_exporter": "python",
   "pygments_lexer": "ipython3",
   "version": "3.12.4"
  }
 },
 "nbformat": 4,
 "nbformat_minor": 5
}
